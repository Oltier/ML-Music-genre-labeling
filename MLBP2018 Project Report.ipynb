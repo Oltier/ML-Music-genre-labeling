{
 "cells": [
  {
   "cell_type": "markdown",
   "metadata": {},
   "source": [
    "**Machine Learning Basic Principles 2018 - Data Analysis Project Report**"
   ]
  },
  {
   "cell_type": "markdown",
   "metadata": {},
   "source": [
    "# *Identifying the best approach to music genre classification on imbalanced dataset* "
   ]
  },
  {
   "cell_type": "markdown",
   "metadata": {},
   "source": [
    "## Abstract"
   ]
  },
  {
   "cell_type": "markdown",
   "metadata": {},
   "source": [
    "This project uses prior learned knowledge of machine and deep learning basic principles and algorithms, to train and test various models on a given dataset, in order to attempt achieving the highest percentage of Accuracy and Logistic Loss of identifying the music genre of songs (later on: labels). Although the training data set was imbalanced, multiple training, and data cleaning methods (such as K-nearest-neighbour, Logistic Regression, SVM, Neural Network, standard scaling, and normalization) were deployed in order to formulate the optimized model for the accuracy of the labels.  A parametric search alongside Brute Force was also done on the data to remove redundant features before we finally identified __Logistic Regression__ providing the best accuracy, logistic loss and F1_score. After training the algorithm on the test data, an accuracy percentage of __0.67345__ and a Log Loss of __0.16651__ has been achieved."
   ]
  },
  {
   "cell_type": "markdown",
   "metadata": {},
   "source": [
    "## 1. Introduction"
   ]
  },
  {
   "cell_type": "markdown",
   "metadata": {},
   "source": [
    "Being at the forefront of many discussions today in the world of ML & AI, Music has gained a new technical interest with many algorithms and smart systems allowing users to find similar artists to those to whom they already listen to. [1] Companies such as Spotify and Apple Music, are putting these in place for their streaming services to ensure that their users can get  the most tailored playlist of what the companies can offer. [2]\n",
    "\n",
    "In order to gain a better understanding of what type of music the user is playing, the user's playlist data must be analyzed. As the user may be listening to various types of music, the genre is determined to help narrow down other similar artists with the same styles. \n",
    "\n",
    "Using the data that was given to us, we tried to delve into it and have a look at it as these music streaming companies would. Our main goal was to try to use various ML techniques learned from earlier exercises and quizzes, with some outside research backing up our approach, in order to further dissect the training dataset that was given."
   ]
  },
  {
   "cell_type": "code",
   "execution_count": null,
   "metadata": {},
   "outputs": [],
   "source": [
    "# Run this cell if you have any missing libraries\n",
    "!pip3 install matplotlib scikit-learn numpy pandas"
   ]
  },
  {
   "cell_type": "code",
   "execution_count": 2,
   "metadata": {
    "deletable": false,
    "nbgrader": {
     "cell_type": "code",
     "checksum": "014a593ce82d342a60d749c7a2c46b7c",
     "grade": true,
     "grade_id": "cell-c3ef844c17cf4a1e",
     "locked": false,
     "points": 1,
     "schema_version": 2,
     "solution": true
    }
   },
   "outputs": [],
   "source": [
    "# Import libraries that will be used in the project\n",
    "import numpy as np\n",
    "import pandas as pd\n",
    "from sklearn import preprocessing\n",
    "from sklearn.decomposition import PCA\n",
    "from sklearn.model_selection import train_test_split\n",
    "from sklearn.neighbors import LocalOutlierFactor\n",
    "from sklearn.preprocessing import StandardScaler\n",
    "from sklearn.model_selection import cross_val_score\n",
    "from sklearn.neighbors import KNeighborsClassifier\n",
    "from sklearn.linear_model import LogisticRegression\n",
    "from sklearn.metrics import f1_score\n",
    "from sklearn.neural_network import MLPClassifier\n",
    "from sklearn.svm import SVC\n",
    "from sklearn.metrics import confusion_matrix\n",
    "import matplotlib.pyplot as plt\n",
    "import itertools"
   ]
  },
  {
   "cell_type": "code",
   "execution_count": 3,
   "metadata": {},
   "outputs": [],
   "source": [
    "# Load the data and cleanup\n",
    "train_data_path = \"train_data.csv\"\n",
    "labels_path = \"train_labels.csv\"\n",
    "test_data_path = \"test_data.csv\"\n",
    "\n",
    "genres_labels = np.array(pd.read_csv(labels_path, index_col=False, header=None))\n",
    "training_data_set = np.array(pd.read_csv(train_data_path, index_col=False, header=None))"
   ]
  },
  {
   "cell_type": "markdown",
   "metadata": {},
   "source": [
    "## 2. Data analysis"
   ]
  },
  {
   "cell_type": "markdown",
   "metadata": {},
   "source": [
    "As mentioned above, we were given a data set to work with that was further divided into two separate data sets. One is that of a data set with 4363 songs, and the other is that of a test data set with 6544 songs. Within these data sets, there are 10 variations of different labels given to the songs that are in parallel with that of their genre. The 10 labels are broken down into the following:\n",
    "\n",
    "<ol>\n",
    "    <li>'Pop_Rock' </li>\n",
    "    <li>'Electronic' </li>\n",
    "    <li>'Rap' </li>\n",
    "    <li>'Jazz' </li>\n",
    "    <li>'Latin' </li>\n",
    "    <li>'RnB' </li>\n",
    "    <li>'International' </li>\n",
    "    <li>'Country' </li>\n",
    "    <li>'Reggae' </li>\n",
    "    <li>'Blues'</li>\n",
    "</ol>"
   ]
  },
  {
   "cell_type": "markdown",
   "metadata": {},
   "source": [
    "If we are to look at the data within a histogram (__Figure 1.__), we can see that there is clearly an imbalance within the class distribution favouring that if the first label ‘Pop_Rock’.  The final feature vector of each song consists of 264 dimensions: 168 values for the rhythm patterns (24 bands, 7 statistics), 48 values for the chroma (12 bands, 4 statistics), and 48 values for the MFCCs (12 bands, 4 statistics)."
   ]
  },
  {
   "cell_type": "code",
   "execution_count": 6,
   "metadata": {},
   "outputs": [
    {
     "data": {
      "image/png": "[encoded data removed]",
      "text/plain": [
       "<matplotlib.figure.Figure at 0x1172a5390>"
      ]
     },
     "metadata": {
      "needs_background": "light"
     },
     "output_type": "display_data"
    }
   ],
   "source": [
    "# Plot histogram\n",
    "genres_names = ['Pop_Rock',\n",
    "          'Electronic',\n",
    "          'Rap',\n",
    "          'Jazz',\n",
    "          'Latin',\n",
    "          'RnB',\n",
    "          'International',\n",
    "          'Country',\n",
    "          'Reggae',\n",
    "          'Blues']\n",
    "\n",
    "plt.figure(1)\n",
    "plt.title(r\"$\\bf{Figure\\ 1.}$Distribution of genres\")\n",
    "original_bins = np.arange(1, 12) - 0.5\n",
    "counts, bins, patches = plt.hist(genres_labels, bins=original_bins, rwidth=0.75)\n",
    "plt.xticks(range(1, 11), genres_names, rotation='vertical')\n",
    "plt.yticks(np.arange(0, np.max(counts), 150))\n",
    "plt.xlim([0.5, 10.5])\n",
    "plt.show()"
   ]
  },
  {
   "cell_type": "markdown",
   "metadata": {},
   "source": [
    "As there are so many dimensions within the feature vector of each song, it is hard to comprehend what are the most important values (rhythm patterns, chroma or MFCCs). Once one is able to classify the most important features for each portion, they will be able to remove unrelated data resulting in an optimized data set. "
   ]
  },
  {
   "cell_type": "markdown",
   "metadata": {},
   "source": [
    "## 3. Methods and experiments"
   ]
  },
  {
   "cell_type": "markdown",
   "metadata": {},
   "source": [
    "*- Explain your whole approach (you can include a block diagram showing the steps in your process).* \n",
    "\n",
    "*- What methods/algorithms, why were the methods chosen. *\n",
    "\n",
    "*- What evaluation methodology (cross CV, etc.).*\n",
    "\n"
   ]
  },
  {
   "cell_type": "code",
   "execution_count": null,
   "metadata": {},
   "outputs": [],
   "source": [
    "# Trials with ML algorithms"
   ]
  },
  {
   "cell_type": "markdown",
   "metadata": {},
   "source": [
    "## 4. Results"
   ]
  },
  {
   "cell_type": "markdown",
   "metadata": {},
   "source": [
    "*Summarize the results of the experiments without discussing their implications.*\n",
    "\n",
    "*- Include both performance measures (accuracy and LogLoss).*\n",
    "\n",
    "*- How does it perform on kaggle compared to the train data.*\n",
    "\n",
    "*- Include a confusion matrix.*\n",
    "\n"
   ]
  },
  {
   "cell_type": "code",
   "execution_count": null,
   "metadata": {},
   "outputs": [],
   "source": [
    "#Confusion matrix ..."
   ]
  },
  {
   "cell_type": "markdown",
   "metadata": {},
   "source": [
    "## 5. Discussion/Conclusions"
   ]
  },
  {
   "cell_type": "markdown",
   "metadata": {},
   "source": [
    "*Interpret and explain your results *\n",
    "\n",
    "*- Discuss the relevance of the performance measures (accuracy and LogLoss) for\n",
    "imbalanced multiclass datasets. *\n",
    "\n",
    "*- How the results relate to the literature. *\n",
    "\n",
    "*- Suggestions for future research/improvement. *\n",
    "\n",
    "*- Did the study answer your questions? *\n",
    "\n"
   ]
  },
  {
   "cell_type": "markdown",
   "metadata": {},
   "source": [
    "## 6. References"
   ]
  },
  {
   "cell_type": "markdown",
   "metadata": {},
   "source": [
    "*List of all the references cited in the document*"
   ]
  },
  {
   "cell_type": "markdown",
   "metadata": {},
   "source": [
    "## Appendix\n",
    "*Any additional material needed to complete the report can be included here. For example, if you want to keep  additional source code, additional images or plots, mathematical derivations, etc. The content should be relevant to the report and should help explain or visualize something mentioned earlier. **You can remove the whole Appendix section if there is no need for it.** *"
   ]
  },
  {
   "cell_type": "code",
   "execution_count": null,
   "metadata": {},
   "outputs": [],
   "source": []
  }
 ],
 "metadata": {
  "kernelspec": {
   "display_name": "Python 3",
   "language": "python",
   "name": "python3"
  },
  "language_info": {
   "codemirror_mode": {
    "name": "ipython",
    "version": 3
   },
   "file_extension": ".py",
   "mimetype": "text/x-python",
   "name": "python",
   "nbconvert_exporter": "python",
   "pygments_lexer": "ipython3",
   "version": "3.6.3"
  }
 },
 "nbformat": 4,
 "nbformat_minor": 2
}
